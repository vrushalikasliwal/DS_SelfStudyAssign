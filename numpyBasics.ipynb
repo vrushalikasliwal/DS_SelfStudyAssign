{
 "cells": [
  {
   "cell_type": "code",
   "execution_count": 2,
   "id": "3fd657c7",
   "metadata": {
    "ExecuteTime": {
     "end_time": "2025-02-23T11:31:26.978607Z",
     "start_time": "2025-02-23T11:31:23.295662Z"
    }
   },
   "outputs": [
    {
     "name": "stdout",
     "output_type": "stream",
     "text": [
      "Requirement already satisfied: numpy in c:\\users\\hsrit\\anaconda3\\lib\\site-packages (1.26.4)\n"
     ]
    }
   ],
   "source": [
    "!pip install numpy"
   ]
  },
  {
   "cell_type": "code",
   "execution_count": 3,
   "id": "5d6dd71c",
   "metadata": {
    "ExecuteTime": {
     "end_time": "2025-02-23T11:31:51.522198Z",
     "start_time": "2025-02-23T11:31:50.970795Z"
    }
   },
   "outputs": [],
   "source": [
    "import numpy as np"
   ]
  },
  {
   "cell_type": "code",
   "execution_count": 4,
   "id": "749d3c3c",
   "metadata": {
    "ExecuteTime": {
     "end_time": "2025-02-23T11:32:48.949547Z",
     "start_time": "2025-02-23T11:32:48.938535Z"
    }
   },
   "outputs": [
    {
     "name": "stdout",
     "output_type": "stream",
     "text": [
      "<class 'numpy.ndarray'>\n"
     ]
    },
    {
     "data": {
      "text/plain": [
       "0"
      ]
     },
     "execution_count": 4,
     "metadata": {},
     "output_type": "execute_result"
    }
   ],
   "source": [
    "a=np.array(10)\n",
    "print(type(a))\n",
    "a.ndim"
   ]
  },
  {
   "cell_type": "code",
   "execution_count": 10,
   "id": "53f22cf8",
   "metadata": {
    "ExecuteTime": {
     "end_time": "2025-02-23T11:35:27.173457Z",
     "start_time": "2025-02-23T11:35:27.166254Z"
    }
   },
   "outputs": [
    {
     "data": {
      "text/plain": [
       "1"
      ]
     },
     "execution_count": 10,
     "metadata": {},
     "output_type": "execute_result"
    }
   ],
   "source": [
    "z=np.array([10,12,22,15]) #single Sq brackates\n",
    "z.ndim"
   ]
  },
  {
   "cell_type": "code",
   "execution_count": 11,
   "id": "037f84de",
   "metadata": {
    "ExecuteTime": {
     "end_time": "2025-02-23T11:35:29.288319Z",
     "start_time": "2025-02-23T11:35:29.281652Z"
    }
   },
   "outputs": [
    {
     "data": {
      "text/plain": [
       "2"
      ]
     },
     "execution_count": 11,
     "metadata": {},
     "output_type": "execute_result"
    }
   ],
   "source": [
    "az=np.array([[10,22,12,15,17]]) #2 sq brackets\n",
    "\n",
    "az.ndim"
   ]
  },
  {
   "cell_type": "code",
   "execution_count": 13,
   "id": "f490b391",
   "metadata": {
    "ExecuteTime": {
     "end_time": "2025-02-23T11:36:55.160190Z",
     "start_time": "2025-02-23T11:36:55.149377Z"
    }
   },
   "outputs": [
    {
     "name": "stdout",
     "output_type": "stream",
     "text": [
      "float64\n",
      "[10. 15. 24. 20.]\n"
     ]
    }
   ],
   "source": [
    "a=np.array([10,15,24,20],dtype='float') #change data type\n",
    "print(a.dtype)\n",
    "print(a)"
   ]
  },
  {
   "cell_type": "markdown",
   "id": "46b1b775",
   "metadata": {},
   "source": [
    "\n",
    "# Change Ways of creating an arrays"
   ]
  },
  {
   "cell_type": "markdown",
   "id": "bed746be",
   "metadata": {},
   "source": [
    "# - Arrays"
   ]
  },
  {
   "cell_type": "code",
   "execution_count": 15,
   "id": "cd7a16f0",
   "metadata": {
    "ExecuteTime": {
     "end_time": "2025-02-23T11:39:04.648624Z",
     "start_time": "2025-02-23T11:39:04.642160Z"
    }
   },
   "outputs": [
    {
     "name": "stdout",
     "output_type": "stream",
     "text": [
      "[ 1  2  3  4  5  6  7  8  9 10 11 12 13 14 15 16 17 18 19 20]\n"
     ]
    }
   ],
   "source": [
    "a=np.arange(1,21)\n",
    "print(a)"
   ]
  },
  {
   "cell_type": "code",
   "execution_count": 22,
   "id": "10f54a3e",
   "metadata": {
    "ExecuteTime": {
     "end_time": "2025-02-23T11:41:32.076159Z",
     "start_time": "2025-02-23T11:41:32.067645Z"
    }
   },
   "outputs": [
    {
     "data": {
      "text/plain": [
       "array([ 1,  3,  5,  7,  9, 11, 13, 15, 17, 19])"
      ]
     },
     "execution_count": 22,
     "metadata": {},
     "output_type": "execute_result"
    }
   ],
   "source": [
    "a=np.arange(1,21,2)\n",
    "a"
   ]
  },
  {
   "cell_type": "markdown",
   "id": "30ddd091",
   "metadata": {},
   "source": [
    " # - Linspace"
   ]
  },
  {
   "cell_type": "code",
   "execution_count": 24,
   "id": "e983f366",
   "metadata": {
    "ExecuteTime": {
     "end_time": "2025-02-23T11:44:13.737076Z",
     "start_time": "2025-02-23T11:44:13.729602Z"
    }
   },
   "outputs": [
    {
     "data": {
      "text/plain": [
       "(array([1.        , 1.08163265, 1.16326531, 1.24489796, 1.32653061,\n",
       "        1.40816327, 1.48979592, 1.57142857, 1.65306122, 1.73469388,\n",
       "        1.81632653, 1.89795918, 1.97959184, 2.06122449, 2.14285714,\n",
       "        2.2244898 , 2.30612245, 2.3877551 , 2.46938776, 2.55102041,\n",
       "        2.63265306, 2.71428571, 2.79591837, 2.87755102, 2.95918367,\n",
       "        3.04081633, 3.12244898, 3.20408163, 3.28571429, 3.36734694,\n",
       "        3.44897959, 3.53061224, 3.6122449 , 3.69387755, 3.7755102 ,\n",
       "        3.85714286, 3.93877551, 4.02040816, 4.10204082, 4.18367347,\n",
       "        4.26530612, 4.34693878, 4.42857143, 4.51020408, 4.59183673,\n",
       "        4.67346939, 4.75510204, 4.83673469, 4.91836735, 5.        ]),\n",
       " 0.08163265306122448)"
      ]
     },
     "execution_count": 24,
     "metadata": {},
     "output_type": "execute_result"
    }
   ],
   "source": [
    "b=np.linspace(1,5,retstep=True)\n",
    "b"
   ]
  },
  {
   "cell_type": "markdown",
   "id": "7e044b9f",
   "metadata": {},
   "source": [
    "# - Zeros And Once"
   ]
  },
  {
   "cell_type": "code",
   "execution_count": 25,
   "id": "0d04b44a",
   "metadata": {
    "ExecuteTime": {
     "end_time": "2025-02-23T11:45:43.335613Z",
     "start_time": "2025-02-23T11:45:43.326406Z"
    }
   },
   "outputs": [
    {
     "data": {
      "text/plain": [
       "array([[0., 0.],\n",
       "       [0., 0.]])"
      ]
     },
     "execution_count": 25,
     "metadata": {},
     "output_type": "execute_result"
    }
   ],
   "source": [
    "z=np.zeros([2,2])\n",
    "z"
   ]
  },
  {
   "cell_type": "code",
   "execution_count": 26,
   "id": "af90df9e",
   "metadata": {
    "ExecuteTime": {
     "end_time": "2025-02-23T11:45:58.292948Z",
     "start_time": "2025-02-23T11:45:58.286666Z"
    }
   },
   "outputs": [
    {
     "data": {
      "text/plain": [
       "array([[1., 1.],\n",
       "       [1., 1.]])"
      ]
     },
     "execution_count": 26,
     "metadata": {},
     "output_type": "execute_result"
    }
   ],
   "source": [
    "o=np.ones([2,2])"
   ]
  },
  {
   "cell_type": "markdown",
   "id": "7d64259f",
   "metadata": {},
   "source": [
    "# - Random"
   ]
  },
  {
   "cell_type": "code",
   "execution_count": 28,
   "id": "36e708e6",
   "metadata": {
    "ExecuteTime": {
     "end_time": "2025-02-23T11:48:35.195663Z",
     "start_time": "2025-02-23T11:48:35.185910Z"
    }
   },
   "outputs": [
    {
     "data": {
      "text/plain": [
       "array([[0.96320374, 0.25412244, 0.09109699, 0.5825211 , 0.0896532 ],\n",
       "       [0.65465203, 0.77888518, 0.78357994, 0.22012167, 0.20701084],\n",
       "       [0.18770699, 0.2291578 , 0.04398149, 0.42570349, 0.14961379],\n",
       "       [0.46534914, 0.47854956, 0.78193131, 0.25384531, 0.1801078 ],\n",
       "       [0.5195749 , 0.99498017, 0.64482723, 0.18326129, 0.32359919]])"
      ]
     },
     "execution_count": 28,
     "metadata": {},
     "output_type": "execute_result"
    }
   ],
   "source": [
    "r=np.random.rand(5,5) #generate the random number od arrays\n",
    "r "
   ]
  },
  {
   "cell_type": "code",
   "execution_count": 29,
   "id": "df3fc5ed",
   "metadata": {
    "ExecuteTime": {
     "end_time": "2025-02-23T11:49:12.683740Z",
     "start_time": "2025-02-23T11:49:12.671163Z"
    }
   },
   "outputs": [
    {
     "data": {
      "text/plain": [
       "array([0, 3, 3, 2, 3, 2, 2, 1, 1, 3])"
      ]
     },
     "execution_count": 29,
     "metadata": {},
     "output_type": "execute_result"
    }
   ],
   "source": [
    "r=np.random.randint(5,size=10)\n",
    "r"
   ]
  },
  {
   "cell_type": "code",
   "execution_count": null,
   "id": "783f1ee4",
   "metadata": {},
   "outputs": [],
   "source": []
  },
  {
   "cell_type": "markdown",
   "id": "810fb9dc",
   "metadata": {},
   "source": [
    "# -Slicing And Indexing"
   ]
  },
  {
   "cell_type": "code",
   "execution_count": 30,
   "id": "bd73374a",
   "metadata": {
    "ExecuteTime": {
     "end_time": "2025-02-23T11:50:40.492556Z",
     "start_time": "2025-02-23T11:50:40.483568Z"
    }
   },
   "outputs": [
    {
     "data": {
      "text/plain": [
       "array([[1, 2, 3],\n",
       "       [4, 5, 6]])"
      ]
     },
     "execution_count": 30,
     "metadata": {},
     "output_type": "execute_result"
    }
   ],
   "source": [
    "a=np.array([[1,2,3], [4,5,6]])\n",
    "a"
   ]
  },
  {
   "cell_type": "code",
   "execution_count": 31,
   "id": "5af04b24",
   "metadata": {
    "ExecuteTime": {
     "end_time": "2025-02-23T11:50:50.767896Z",
     "start_time": "2025-02-23T11:50:50.760653Z"
    }
   },
   "outputs": [
    {
     "data": {
      "text/plain": [
       "1"
      ]
     },
     "execution_count": 31,
     "metadata": {},
     "output_type": "execute_result"
    }
   ],
   "source": [
    "a[0,0]"
   ]
  },
  {
   "cell_type": "code",
   "execution_count": 32,
   "id": "736fda2b",
   "metadata": {
    "ExecuteTime": {
     "end_time": "2025-02-23T11:50:56.392342Z",
     "start_time": "2025-02-23T11:50:56.382957Z"
    }
   },
   "outputs": [
    {
     "data": {
      "text/plain": [
       "6"
      ]
     },
     "execution_count": 32,
     "metadata": {},
     "output_type": "execute_result"
    }
   ],
   "source": [
    "a[1,2]"
   ]
  },
  {
   "cell_type": "code",
   "execution_count": 33,
   "id": "c8c6c5c7",
   "metadata": {
    "ExecuteTime": {
     "end_time": "2025-02-23T11:51:09.040853Z",
     "start_time": "2025-02-23T11:51:09.033425Z"
    }
   },
   "outputs": [
    {
     "data": {
      "text/plain": [
       "array([2, 3])"
      ]
     },
     "execution_count": 33,
     "metadata": {},
     "output_type": "execute_result"
    }
   ],
   "source": [
    "a[0,1:]"
   ]
  },
  {
   "cell_type": "code",
   "execution_count": 34,
   "id": "a589c145",
   "metadata": {
    "ExecuteTime": {
     "end_time": "2025-02-23T11:51:23.956232Z",
     "start_time": "2025-02-23T11:51:23.946150Z"
    }
   },
   "outputs": [
    {
     "data": {
      "text/plain": [
       "array([[2, 3],\n",
       "       [5, 6]])"
      ]
     },
     "execution_count": 34,
     "metadata": {},
     "output_type": "execute_result"
    }
   ],
   "source": [
    "a[0:,1:]"
   ]
  },
  {
   "cell_type": "code",
   "execution_count": 35,
   "id": "b3c91f4f",
   "metadata": {
    "ExecuteTime": {
     "end_time": "2025-02-23T11:52:01.945980Z",
     "start_time": "2025-02-23T11:52:01.938991Z"
    }
   },
   "outputs": [
    {
     "data": {
      "text/plain": [
       "array([[1, 2, 3],\n",
       "       [4, 5, 6]])"
      ]
     },
     "execution_count": 35,
     "metadata": {},
     "output_type": "execute_result"
    }
   ],
   "source": [
    "a"
   ]
  },
  {
   "cell_type": "code",
   "execution_count": 36,
   "id": "4d0fe7dc",
   "metadata": {
    "ExecuteTime": {
     "end_time": "2025-02-23T11:52:26.123008Z",
     "start_time": "2025-02-23T11:52:26.113970Z"
    }
   },
   "outputs": [
    {
     "data": {
      "text/plain": [
       "array([1, 6])"
      ]
     },
     "execution_count": 36,
     "metadata": {},
     "output_type": "execute_result"
    }
   ],
   "source": [
    "a[[0,1],[0,2]] #a[[rowindex[1],rowindex[6]],[colindex[1],colindex[6]]]"
   ]
  },
  {
   "cell_type": "code",
   "execution_count": 38,
   "id": "5f7cea43",
   "metadata": {
    "ExecuteTime": {
     "end_time": "2025-02-23T12:04:20.705095Z",
     "start_time": "2025-02-23T12:04:20.588119Z"
    }
   },
   "outputs": [
    {
     "data": {
      "text/plain": [
       "array([3, 4])"
      ]
     },
     "execution_count": 38,
     "metadata": {},
     "output_type": "execute_result"
    }
   ],
   "source": [
    "a[[0,1],[2,0]]"
   ]
  },
  {
   "cell_type": "markdown",
   "id": "d2288eb8",
   "metadata": {},
   "source": [
    "# -Reshaping the arrays"
   ]
  },
  {
   "cell_type": "code",
   "execution_count": 43,
   "id": "71250f2b",
   "metadata": {
    "ExecuteTime": {
     "end_time": "2025-02-23T12:06:36.053997Z",
     "start_time": "2025-02-23T12:06:36.031900Z"
    }
   },
   "outputs": [
    {
     "data": {
      "text/plain": [
       "array([[ 1,  2,  3,  4,  5],\n",
       "       [ 1, 10,  5, 14, 60]])"
      ]
     },
     "execution_count": 43,
     "metadata": {},
     "output_type": "execute_result"
    }
   ],
   "source": [
    "a=np.array([[1,2,3,4,5],[1,10,5,14,60]])\n",
    "a"
   ]
  },
  {
   "cell_type": "code",
   "execution_count": 45,
   "id": "211c82b9",
   "metadata": {
    "ExecuteTime": {
     "end_time": "2025-02-23T12:06:44.134400Z",
     "start_time": "2025-02-23T12:06:44.120335Z"
    }
   },
   "outputs": [
    {
     "data": {
      "text/plain": [
       "2"
      ]
     },
     "execution_count": 45,
     "metadata": {},
     "output_type": "execute_result"
    }
   ],
   "source": [
    "a.ndim"
   ]
  },
  {
   "cell_type": "code",
   "execution_count": 46,
   "id": "233b11df",
   "metadata": {
    "ExecuteTime": {
     "end_time": "2025-02-23T12:06:57.205287Z",
     "start_time": "2025-02-23T12:06:57.190360Z"
    }
   },
   "outputs": [
    {
     "data": {
      "text/plain": [
       "(2, 5)"
      ]
     },
     "execution_count": 46,
     "metadata": {},
     "output_type": "execute_result"
    }
   ],
   "source": [
    "a.shape"
   ]
  },
  {
   "cell_type": "code",
   "execution_count": 52,
   "id": "4929cfa8",
   "metadata": {
    "ExecuteTime": {
     "end_time": "2025-02-23T12:08:23.437467Z",
     "start_time": "2025-02-23T12:08:23.428140Z"
    }
   },
   "outputs": [],
   "source": [
    "a=np.random.rand(5,2)"
   ]
  },
  {
   "cell_type": "code",
   "execution_count": 53,
   "id": "ce44e76c",
   "metadata": {
    "ExecuteTime": {
     "end_time": "2025-02-23T12:08:25.568823Z",
     "start_time": "2025-02-23T12:08:25.554368Z"
    }
   },
   "outputs": [
    {
     "data": {
      "text/plain": [
       "array([[0.33045311, 0.54236473],\n",
       "       [0.98888095, 0.09991401],\n",
       "       [0.12295545, 0.65640803],\n",
       "       [0.97131467, 0.08107003],\n",
       "       [0.54513167, 0.72490344]])"
      ]
     },
     "execution_count": 53,
     "metadata": {},
     "output_type": "execute_result"
    }
   ],
   "source": [
    "a"
   ]
  },
  {
   "cell_type": "code",
   "execution_count": 62,
   "id": "6c5259f7",
   "metadata": {
    "ExecuteTime": {
     "end_time": "2025-02-23T12:11:20.882900Z",
     "start_time": "2025-02-23T12:11:20.867031Z"
    }
   },
   "outputs": [
    {
     "data": {
      "text/plain": [
       "array([[0.33045311, 0.54236473, 0.98888095, 0.09991401, 0.12295545],\n",
       "       [0.65640803, 0.97131467, 0.08107003, 0.54513167, 0.72490344]])"
      ]
     },
     "execution_count": 62,
     "metadata": {},
     "output_type": "execute_result"
    }
   ],
   "source": [
    "a.reshape(2,5) #Reshape the array here 2*5, 5*2, 10*1, 1*10 like this can reshape"
   ]
  },
  {
   "cell_type": "code",
   "execution_count": 56,
   "id": "6b08d7fe",
   "metadata": {
    "ExecuteTime": {
     "end_time": "2025-02-23T12:08:49.786411Z",
     "start_time": "2025-02-23T12:08:49.770661Z"
    }
   },
   "outputs": [
    {
     "data": {
      "text/plain": [
       "array([[0.33045311],\n",
       "       [0.54236473],\n",
       "       [0.98888095],\n",
       "       [0.09991401],\n",
       "       [0.12295545],\n",
       "       [0.65640803],\n",
       "       [0.97131467],\n",
       "       [0.08107003],\n",
       "       [0.54513167],\n",
       "       [0.72490344]])"
      ]
     },
     "execution_count": 56,
     "metadata": {},
     "output_type": "execute_result"
    }
   ],
   "source": [
    "a.reshape(10,1)"
   ]
  },
  {
   "cell_type": "code",
   "execution_count": 57,
   "id": "cc1b1a8d",
   "metadata": {
    "ExecuteTime": {
     "end_time": "2025-02-23T12:09:03.024403Z",
     "start_time": "2025-02-23T12:09:03.010738Z"
    }
   },
   "outputs": [
    {
     "data": {
      "text/plain": [
       "array([[0.33045311, 0.54236473, 0.98888095, 0.09991401, 0.12295545,\n",
       "        0.65640803, 0.97131467, 0.08107003, 0.54513167, 0.72490344]])"
      ]
     },
     "execution_count": 57,
     "metadata": {},
     "output_type": "execute_result"
    }
   ],
   "source": [
    "a.reshape(1,10)"
   ]
  },
  {
   "cell_type": "code",
   "execution_count": 58,
   "id": "f7db7eb7",
   "metadata": {
    "ExecuteTime": {
     "end_time": "2025-02-23T12:09:26.166185Z",
     "start_time": "2025-02-23T12:09:26.150357Z"
    }
   },
   "outputs": [
    {
     "data": {
      "text/plain": [
       "array([[0.33045311, 0.54236473],\n",
       "       [0.98888095, 0.09991401],\n",
       "       [0.12295545, 0.65640803],\n",
       "       [0.97131467, 0.08107003],\n",
       "       [0.54513167, 0.72490344]])"
      ]
     },
     "execution_count": 58,
     "metadata": {},
     "output_type": "execute_result"
    }
   ],
   "source": [
    "a.reshape(5,-1)"
   ]
  },
  {
   "cell_type": "code",
   "execution_count": 60,
   "id": "d5ffda3e",
   "metadata": {
    "ExecuteTime": {
     "end_time": "2025-02-23T12:09:45.134861Z",
     "start_time": "2025-02-23T12:09:45.121201Z"
    }
   },
   "outputs": [
    {
     "data": {
      "text/plain": [
       "array([[0.33045311, 0.54236473, 0.98888095, 0.09991401, 0.12295545],\n",
       "       [0.65640803, 0.97131467, 0.08107003, 0.54513167, 0.72490344]])"
      ]
     },
     "execution_count": 60,
     "metadata": {},
     "output_type": "execute_result"
    }
   ],
   "source": [
    "a.reshape(-1,5)"
   ]
  },
  {
   "cell_type": "code",
   "execution_count": 61,
   "id": "b652e55f",
   "metadata": {
    "ExecuteTime": {
     "end_time": "2025-02-23T12:10:00.473442Z",
     "start_time": "2025-02-23T12:10:00.455889Z"
    }
   },
   "outputs": [
    {
     "data": {
      "text/plain": [
       "array([[0.33045311, 0.54236473, 0.98888095, 0.09991401, 0.12295545,\n",
       "        0.65640803, 0.97131467, 0.08107003, 0.54513167, 0.72490344]])"
      ]
     },
     "execution_count": 61,
     "metadata": {},
     "output_type": "execute_result"
    }
   ],
   "source": [
    "a.reshape(-1,10)"
   ]
  },
  {
   "cell_type": "code",
   "execution_count": null,
   "id": "c5f4b9de",
   "metadata": {},
   "outputs": [],
   "source": []
  },
  {
   "cell_type": "markdown",
   "id": "7d1d0afd",
   "metadata": {
    "ExecuteTime": {
     "end_time": "2025-02-23T12:11:44.441546Z",
     "start_time": "2025-02-23T12:11:44.422729Z"
    }
   },
   "source": [
    "# -Aggregate function"
   ]
  },
  {
   "cell_type": "code",
   "execution_count": 64,
   "id": "77bc2a30",
   "metadata": {
    "ExecuteTime": {
     "end_time": "2025-02-23T12:12:19.023390Z",
     "start_time": "2025-02-23T12:12:19.002230Z"
    }
   },
   "outputs": [
    {
     "data": {
      "text/plain": [
       "0.0810700335647635"
      ]
     },
     "execution_count": 64,
     "metadata": {},
     "output_type": "execute_result"
    }
   ],
   "source": [
    "a.min()"
   ]
  },
  {
   "cell_type": "code",
   "execution_count": 65,
   "id": "f9083a5c",
   "metadata": {
    "ExecuteTime": {
     "end_time": "2025-02-23T12:12:29.037198Z",
     "start_time": "2025-02-23T12:12:29.024088Z"
    }
   },
   "outputs": [
    {
     "data": {
      "text/plain": [
       "0.9888809493974487"
      ]
     },
     "execution_count": 65,
     "metadata": {},
     "output_type": "execute_result"
    }
   ],
   "source": [
    "a.max()"
   ]
  },
  {
   "cell_type": "code",
   "execution_count": 66,
   "id": "7224fd1e",
   "metadata": {
    "ExecuteTime": {
     "end_time": "2025-02-23T12:12:33.587847Z",
     "start_time": "2025-02-23T12:12:33.560880Z"
    }
   },
   "outputs": [
    {
     "data": {
      "text/plain": [
       "0.5063396091003489"
      ]
     },
     "execution_count": 66,
     "metadata": {},
     "output_type": "execute_result"
    }
   ],
   "source": [
    "a.mean()"
   ]
  },
  {
   "cell_type": "code",
   "execution_count": 67,
   "id": "74909709",
   "metadata": {
    "ExecuteTime": {
     "end_time": "2025-02-23T12:12:38.186556Z",
     "start_time": "2025-02-23T12:12:38.164067Z"
    }
   },
   "outputs": [
    {
     "data": {
      "text/plain": [
       "0.3234341854661436"
      ]
     },
     "execution_count": 67,
     "metadata": {},
     "output_type": "execute_result"
    }
   ],
   "source": [
    "a.std()"
   ]
  },
  {
   "cell_type": "code",
   "execution_count": 68,
   "id": "80993966",
   "metadata": {
    "ExecuteTime": {
     "end_time": "2025-02-23T12:12:43.455965Z",
     "start_time": "2025-02-23T12:12:43.441113Z"
    }
   },
   "outputs": [
    {
     "data": {
      "text/plain": [
       "0.10460967232814777"
      ]
     },
     "execution_count": 68,
     "metadata": {},
     "output_type": "execute_result"
    }
   ],
   "source": [
    "a.var()"
   ]
  },
  {
   "cell_type": "code",
   "execution_count": 72,
   "id": "32f67fae",
   "metadata": {
    "ExecuteTime": {
     "end_time": "2025-02-23T12:17:19.889022Z",
     "start_time": "2025-02-23T12:17:19.872355Z"
    }
   },
   "outputs": [
    {
     "data": {
      "text/plain": [
       "0.5896422137315965"
      ]
     },
     "execution_count": 72,
     "metadata": {},
     "output_type": "execute_result"
    }
   ],
   "source": [
    "np.percentile(a,60) #array a having .58% values are less than 60"
   ]
  },
  {
   "cell_type": "code",
   "execution_count": 73,
   "id": "ab20a420",
   "metadata": {
    "ExecuteTime": {
     "end_time": "2025-02-23T12:18:00.301164Z",
     "start_time": "2025-02-23T12:18:00.120941Z"
    }
   },
   "outputs": [
    {
     "data": {
      "text/plain": [
       "array([[ 1., -1.,  1., -1.,  1.],\n",
       "       [-1.,  1., -1.,  1., -1.],\n",
       "       [ 1., -1.,  1., -1.,  1.],\n",
       "       [-1.,  1., -1.,  1., -1.],\n",
       "       [ 1., -1.,  1., -1.,  1.]])"
      ]
     },
     "execution_count": 73,
     "metadata": {},
     "output_type": "execute_result"
    }
   ],
   "source": [
    "np.corrcoef(a)"
   ]
  },
  {
   "cell_type": "code",
   "execution_count": null,
   "id": "1deafdd7",
   "metadata": {},
   "outputs": [],
   "source": []
  },
  {
   "cell_type": "markdown",
   "id": "82876e54",
   "metadata": {},
   "source": [
    "# -Stacking"
   ]
  },
  {
   "cell_type": "code",
   "execution_count": 78,
   "id": "4e3af6fb",
   "metadata": {
    "ExecuteTime": {
     "end_time": "2025-02-23T12:20:29.120464Z",
     "start_time": "2025-02-23T12:20:29.103395Z"
    }
   },
   "outputs": [
    {
     "name": "stdout",
     "output_type": "stream",
     "text": [
      "[[0.62684477 0.16383268 0.98220537 0.18868346 0.9448773 ]]\n",
      "[[0.4502075  0.19020465 0.4032247  0.85461752 0.96139398]]\n"
     ]
    }
   ],
   "source": [
    "a=np.random.rand(1,5)\n",
    "b=np.random.rand(1,5)\n",
    "print (a)\n",
    "print(b)"
   ]
  },
  {
   "cell_type": "code",
   "execution_count": 80,
   "id": "0a97b77d",
   "metadata": {
    "ExecuteTime": {
     "end_time": "2025-02-23T12:21:16.881031Z",
     "start_time": "2025-02-23T12:21:16.865040Z"
    }
   },
   "outputs": [
    {
     "data": {
      "text/plain": [
       "array([[0.62684477, 0.16383268, 0.98220537, 0.18868346, 0.9448773 ,\n",
       "        0.4502075 , 0.19020465, 0.4032247 , 0.85461752, 0.96139398]])"
      ]
     },
     "execution_count": 80,
     "metadata": {},
     "output_type": "execute_result"
    }
   ],
   "source": [
    "np.hstack([a,b])"
   ]
  },
  {
   "cell_type": "code",
   "execution_count": 81,
   "id": "c7d2f2cb",
   "metadata": {
    "ExecuteTime": {
     "end_time": "2025-02-23T12:21:39.469104Z",
     "start_time": "2025-02-23T12:21:39.452860Z"
    }
   },
   "outputs": [
    {
     "data": {
      "text/plain": [
       "array([[0.62684477, 0.16383268, 0.98220537, 0.18868346, 0.9448773 ],\n",
       "       [0.4502075 , 0.19020465, 0.4032247 , 0.85461752, 0.96139398]])"
      ]
     },
     "execution_count": 81,
     "metadata": {},
     "output_type": "execute_result"
    }
   ],
   "source": [
    "np.vstack([a,b])"
   ]
  },
  {
   "cell_type": "code",
   "execution_count": null,
   "id": "0bd7a1d3",
   "metadata": {},
   "outputs": [],
   "source": []
  }
 ],
 "metadata": {
  "kernelspec": {
   "display_name": "Python 3 (ipykernel)",
   "language": "python",
   "name": "python3"
  },
  "language_info": {
   "codemirror_mode": {
    "name": "ipython",
    "version": 3
   },
   "file_extension": ".py",
   "mimetype": "text/x-python",
   "name": "python",
   "nbconvert_exporter": "python",
   "pygments_lexer": "ipython3",
   "version": "3.12.3"
  }
 },
 "nbformat": 4,
 "nbformat_minor": 5
}
