{
 "cells": [
  {
   "cell_type": "markdown",
   "id": "1174346e",
   "metadata": {
    "ExecuteTime": {
     "end_time": "2025-02-17T23:18:55.671720Z",
     "start_time": "2025-02-17T23:18:55.659168Z"
    }
   },
   "source": [
    "# Pandas\n",
    "Pandas is an open-source library that is made mainly for working with relational or labeled data both easily and intuitively.\n",
    "It provides various data structures and operations for manipulating numerical data and time series.\n",
    "This library is built on top of the NumPy library.\n",
    "Pandas is fast and it has high performance & productivity for users.\n",
    "Pandas generally provide two data structures for manipulating data, They are:\n",
    "--Series\n",
    "--DataFrame"
   ]
  },
  {
   "cell_type": "code",
   "execution_count": 1,
   "id": "637edf21",
   "metadata": {
    "ExecuteTime": {
     "end_time": "2025-02-09T12:26:59.133191Z",
     "start_time": "2025-02-09T12:26:59.128381Z"
    }
   },
   "outputs": [],
   "source": [
    "###To Enable the NBExtensions in jupyter notebook\n",
    "###in anaconda command prompt fire below command\n",
    "##conda install -c conda-forge jupyter_contrib_nbextensions\n",
    "###OR\n",
    "\n",
    "##!pip install jupyter_contrib_nbextensions && jupyter contrib nbextension install\n"
   ]
  },
  {
   "cell_type": "code",
   "execution_count": 2,
   "id": "d4f173bc",
   "metadata": {
    "ExecuteTime": {
     "end_time": "2025-02-09T12:27:00.313070Z",
     "start_time": "2025-02-09T12:26:59.136197Z"
    }
   },
   "outputs": [],
   "source": [
    "###To Import the library\n",
    "import pandas"
   ]
  },
  {
   "cell_type": "code",
   "execution_count": 3,
   "id": "383facdf",
   "metadata": {
    "ExecuteTime": {
     "end_time": "2025-02-09T12:27:00.324496Z",
     "start_time": "2025-02-09T12:27:00.315483Z"
    }
   },
   "outputs": [
    {
     "data": {
      "text/plain": [
       "int"
      ]
     },
     "execution_count": 3,
     "metadata": {},
     "output_type": "execute_result"
    }
   ],
   "source": [
    "#Variable\n",
    "a=500\n",
    "type(a)"
   ]
  },
  {
   "cell_type": "code",
   "execution_count": 4,
   "id": "fe2e6067",
   "metadata": {
    "ExecuteTime": {
     "end_time": "2025-02-09T12:27:00.354695Z",
     "start_time": "2025-02-09T12:27:00.327505Z"
    }
   },
   "outputs": [
    {
     "data": {
      "text/plain": [
       "500"
      ]
     },
     "execution_count": 4,
     "metadata": {},
     "output_type": "execute_result"
    }
   ],
   "source": [
    "a"
   ]
  },
  {
   "cell_type": "code",
   "execution_count": 5,
   "id": "cac39c4b",
   "metadata": {
    "ExecuteTime": {
     "end_time": "2025-02-09T12:27:00.367037Z",
     "start_time": "2025-02-09T12:27:00.359774Z"
    }
   },
   "outputs": [
    {
     "name": "stdout",
     "output_type": "stream",
     "text": [
      "500\n"
     ]
    }
   ],
   "source": [
    "print(a)"
   ]
  },
  {
   "cell_type": "code",
   "execution_count": 6,
   "id": "335f6958",
   "metadata": {
    "ExecuteTime": {
     "end_time": "2025-02-09T12:27:00.377133Z",
     "start_time": "2025-02-09T12:27:00.369042Z"
    }
   },
   "outputs": [
    {
     "data": {
      "text/plain": [
       "515"
      ]
     },
     "execution_count": 6,
     "metadata": {},
     "output_type": "execute_result"
    }
   ],
   "source": [
    "a+15"
   ]
  },
  {
   "cell_type": "code",
   "execution_count": 7,
   "id": "4d6fcea6",
   "metadata": {
    "ExecuteTime": {
     "end_time": "2025-02-09T12:27:00.388671Z",
     "start_time": "2025-02-09T12:27:00.379140Z"
    }
   },
   "outputs": [],
   "source": [
    "#Arithmetic operatoea (+, -,'',/,%)"
   ]
  },
  {
   "cell_type": "code",
   "execution_count": 8,
   "id": "3f527d36",
   "metadata": {
    "ExecuteTime": {
     "end_time": "2025-02-09T12:27:00.399113Z",
     "start_time": "2025-02-09T12:27:00.391680Z"
    }
   },
   "outputs": [],
   "source": [
    "a=10\n",
    "b=20\n",
    "#print(a +\"\"+ b) #wrong\n",
    "#print(a+', '+b) #unsupported operand type(s) for +: 'int' and 'str'"
   ]
  },
  {
   "cell_type": "code",
   "execution_count": 9,
   "id": "f90dd581",
   "metadata": {
    "ExecuteTime": {
     "end_time": "2025-02-09T12:27:00.420536Z",
     "start_time": "2025-02-09T12:27:00.401124Z"
    }
   },
   "outputs": [
    {
     "name": "stdout",
     "output_type": "stream",
     "text": [
      "5.0\n"
     ]
    }
   ],
   "source": [
    "print(a/2) #Get Quotient\n"
   ]
  },
  {
   "cell_type": "code",
   "execution_count": 10,
   "id": "cad7cddb",
   "metadata": {
    "ExecuteTime": {
     "end_time": "2025-02-09T12:27:00.433357Z",
     "start_time": "2025-02-09T12:27:00.422545Z"
    }
   },
   "outputs": [
    {
     "name": "stdout",
     "output_type": "stream",
     "text": [
      "0\n"
     ]
    }
   ],
   "source": [
    "print(a%2) #Reminder, a is divident, 2 is divisor"
   ]
  },
  {
   "cell_type": "code",
   "execution_count": 11,
   "id": "56ea2bb1",
   "metadata": {
    "ExecuteTime": {
     "end_time": "2025-02-09T12:27:00.444829Z",
     "start_time": "2025-02-09T12:27:00.436363Z"
    }
   },
   "outputs": [
    {
     "data": {
      "text/plain": [
       "False"
      ]
     },
     "execution_count": 11,
     "metadata": {},
     "output_type": "execute_result"
    }
   ],
   "source": [
    "a==b #Equality operator"
   ]
  },
  {
   "cell_type": "code",
   "execution_count": 12,
   "id": "723289c7",
   "metadata": {
    "ExecuteTime": {
     "end_time": "2025-02-09T12:27:00.455353Z",
     "start_time": "2025-02-09T12:27:00.446349Z"
    }
   },
   "outputs": [
    {
     "data": {
      "text/plain": [
       "False"
      ]
     },
     "execution_count": 12,
     "metadata": {},
     "output_type": "execute_result"
    }
   ],
   "source": [
    "a>b "
   ]
  },
  {
   "cell_type": "code",
   "execution_count": null,
   "id": "088388a0",
   "metadata": {},
   "outputs": [],
   "source": []
  },
  {
   "cell_type": "code",
   "execution_count": 13,
   "id": "75052d59",
   "metadata": {
    "ExecuteTime": {
     "end_time": "2025-02-09T12:27:00.464908Z",
     "start_time": "2025-02-09T12:27:00.458359Z"
    }
   },
   "outputs": [
    {
     "data": {
      "text/plain": [
       "True"
      ]
     },
     "execution_count": 13,
     "metadata": {},
     "output_type": "execute_result"
    }
   ],
   "source": [
    " a!=b"
   ]
  },
  {
   "cell_type": "code",
   "execution_count": 14,
   "id": "a535111e",
   "metadata": {
    "ExecuteTime": {
     "end_time": "2025-02-09T12:27:00.481021Z",
     "start_time": "2025-02-09T12:27:00.471775Z"
    }
   },
   "outputs": [
    {
     "data": {
      "text/plain": [
       "'Single line comment'"
      ]
     },
     "execution_count": 14,
     "metadata": {},
     "output_type": "execute_result"
    }
   ],
   "source": [
    "'''Single line comment'''"
   ]
  },
  {
   "cell_type": "markdown",
   "id": "c4d67431",
   "metadata": {
    "ExecuteTime": {
     "end_time": "2025-02-08T06:01:58.305842Z",
     "start_time": "2025-02-08T06:01:58.294195Z"
    }
   },
   "source": [
    "# Data Types\n",
    "'''Integer, Float, String, Boolean'''"
   ]
  },
  {
   "cell_type": "code",
   "execution_count": 15,
   "id": "e2555c11",
   "metadata": {
    "ExecuteTime": {
     "end_time": "2025-02-09T12:27:00.490316Z",
     "start_time": "2025-02-09T12:27:00.483318Z"
    }
   },
   "outputs": [
    {
     "name": "stdout",
     "output_type": "stream",
     "text": [
      "<class 'int'>\n"
     ]
    }
   ],
   "source": [
    "#Integer\n",
    "a=100\n",
    "print (type(a))"
   ]
  },
  {
   "cell_type": "code",
   "execution_count": 16,
   "id": "1022f364",
   "metadata": {
    "ExecuteTime": {
     "end_time": "2025-02-09T12:27:00.504106Z",
     "start_time": "2025-02-09T12:27:00.492829Z"
    }
   },
   "outputs": [
    {
     "data": {
      "text/plain": [
       "int"
      ]
     },
     "execution_count": 16,
     "metadata": {},
     "output_type": "execute_result"
    }
   ],
   "source": [
    "type(a)"
   ]
  },
  {
   "cell_type": "code",
   "execution_count": 17,
   "id": "22e05363",
   "metadata": {
    "ExecuteTime": {
     "end_time": "2025-02-09T12:27:00.516644Z",
     "start_time": "2025-02-09T12:27:00.505221Z"
    }
   },
   "outputs": [],
   "source": [
    "s1='This is Python Class'\n",
    "s2=\"This is python class\"\n",
    "s3='''This is python class 3'''"
   ]
  },
  {
   "cell_type": "code",
   "execution_count": 18,
   "id": "f89285d4",
   "metadata": {
    "ExecuteTime": {
     "end_time": "2025-02-09T12:27:00.527416Z",
     "start_time": "2025-02-09T12:27:00.520664Z"
    }
   },
   "outputs": [
    {
     "data": {
      "text/plain": [
       "False"
      ]
     },
     "execution_count": 18,
     "metadata": {},
     "output_type": "execute_result"
    }
   ],
   "source": [
    "s1==s2"
   ]
  },
  {
   "cell_type": "code",
   "execution_count": 19,
   "id": "8751be12",
   "metadata": {
    "ExecuteTime": {
     "end_time": "2025-02-09T12:27:00.544424Z",
     "start_time": "2025-02-09T12:27:00.529424Z"
    }
   },
   "outputs": [
    {
     "data": {
      "text/plain": [
       "True"
      ]
     },
     "execution_count": 19,
     "metadata": {},
     "output_type": "execute_result"
    }
   ],
   "source": [
    "s1='This is Python Class'\n",
    "s2=\"This is Python Class\"\n",
    "s3='''This is python class 3'''\n",
    "s1==s2"
   ]
  },
  {
   "cell_type": "code",
   "execution_count": 20,
   "id": "c296580f",
   "metadata": {
    "ExecuteTime": {
     "end_time": "2025-02-09T12:27:00.553076Z",
     "start_time": "2025-02-09T12:27:00.546677Z"
    }
   },
   "outputs": [
    {
     "data": {
      "text/plain": [
       "'It\"s a notebook'"
      ]
     },
     "execution_count": 20,
     "metadata": {},
     "output_type": "execute_result"
    }
   ],
   "source": [
    "#s1='It's a notebook #Wrong output\n",
    "s1=\"It's a notebook\" \n",
    "s1='It\"s a notebook'\n",
    "s1"
   ]
  },
  {
   "cell_type": "code",
   "execution_count": 21,
   "id": "15cf858a",
   "metadata": {
    "ExecuteTime": {
     "end_time": "2025-02-09T12:27:00.564814Z",
     "start_time": "2025-02-09T12:27:00.554083Z"
    }
   },
   "outputs": [
    {
     "data": {
      "text/plain": [
       "'Its a notebook'"
      ]
     },
     "execution_count": 21,
     "metadata": {},
     "output_type": "execute_result"
    }
   ],
   "source": [
    "s1='It''s a notebook'\n",
    "s1"
   ]
  },
  {
   "cell_type": "code",
   "execution_count": 22,
   "id": "346b82e4",
   "metadata": {
    "ExecuteTime": {
     "end_time": "2025-02-09T12:27:00.581112Z",
     "start_time": "2025-02-09T12:27:00.566820Z"
    }
   },
   "outputs": [
    {
     "data": {
      "text/plain": [
       "'Its a notebook'"
      ]
     },
     "execution_count": 22,
     "metadata": {},
     "output_type": "execute_result"
    }
   ],
   "source": [
    "s1='It''s a notebook'\n",
    "s1"
   ]
  },
  {
   "cell_type": "code",
   "execution_count": 23,
   "id": "937c040b",
   "metadata": {
    "ExecuteTime": {
     "end_time": "2025-02-09T12:27:00.592122Z",
     "start_time": "2025-02-09T12:27:00.585121Z"
    }
   },
   "outputs": [
    {
     "data": {
      "text/plain": [
       "\"It's a notebook\""
      ]
     },
     "execution_count": 23,
     "metadata": {},
     "output_type": "execute_result"
    }
   ],
   "source": [
    "s1=\"It's a notebook\"\n",
    "s1"
   ]
  },
  {
   "cell_type": "markdown",
   "id": "9d7109c3",
   "metadata": {},
   "source": [
    "# TypeCAsting"
   ]
  },
  {
   "cell_type": "code",
   "execution_count": 24,
   "id": "cb1462f0",
   "metadata": {
    "ExecuteTime": {
     "end_time": "2025-02-09T12:27:00.608871Z",
     "start_time": "2025-02-09T12:27:00.593561Z"
    }
   },
   "outputs": [
    {
     "data": {
      "text/plain": [
       "float"
      ]
     },
     "execution_count": 24,
     "metadata": {},
     "output_type": "execute_result"
    }
   ],
   "source": [
    "#Change the datatype of the variable\n",
    "a=10.8\n",
    "type(a)"
   ]
  },
  {
   "cell_type": "code",
   "execution_count": 25,
   "id": "a345d1f5",
   "metadata": {
    "ExecuteTime": {
     "end_time": "2025-02-09T12:27:00.627022Z",
     "start_time": "2025-02-09T12:27:00.610877Z"
    }
   },
   "outputs": [
    {
     "data": {
      "text/plain": [
       "int"
      ]
     },
     "execution_count": 25,
     "metadata": {},
     "output_type": "execute_result"
    }
   ],
   "source": [
    "b=int(a)\n",
    "type(b)"
   ]
  },
  {
   "cell_type": "code",
   "execution_count": 26,
   "id": "dd994f91",
   "metadata": {
    "ExecuteTime": {
     "end_time": "2025-02-09T12:27:00.637029Z",
     "start_time": "2025-02-09T12:27:00.629028Z"
    }
   },
   "outputs": [
    {
     "data": {
      "text/plain": [
       "float"
      ]
     },
     "execution_count": 26,
     "metadata": {},
     "output_type": "execute_result"
    }
   ],
   "source": [
    "type(a)"
   ]
  },
  {
   "cell_type": "code",
   "execution_count": 27,
   "id": "8699b663",
   "metadata": {
    "ExecuteTime": {
     "end_time": "2025-02-09T12:27:00.653096Z",
     "start_time": "2025-02-09T12:27:00.639458Z"
    }
   },
   "outputs": [
    {
     "data": {
      "text/plain": [
       "int"
      ]
     },
     "execution_count": 27,
     "metadata": {},
     "output_type": "execute_result"
    }
   ],
   "source": [
    "a=int(a)\n",
    "type(a)"
   ]
  },
  {
   "cell_type": "markdown",
   "id": "5eee1da7",
   "metadata": {},
   "source": [
    "# String Methods"
   ]
  },
  {
   "cell_type": "code",
   "execution_count": 28,
   "id": "09c82063",
   "metadata": {
    "ExecuteTime": {
     "end_time": "2025-02-09T12:27:00.669276Z",
     "start_time": "2025-02-09T12:27:00.656104Z"
    }
   },
   "outputs": [
    {
     "data": {
      "text/plain": [
       "str"
      ]
     },
     "execution_count": 28,
     "metadata": {},
     "output_type": "execute_result"
    }
   ],
   "source": [
    "c='Jupyter Notebook'\n",
    "type(c)"
   ]
  },
  {
   "cell_type": "code",
   "execution_count": 29,
   "id": "6e1d4139",
   "metadata": {
    "ExecuteTime": {
     "end_time": "2025-02-09T12:27:00.680740Z",
     "start_time": "2025-02-09T12:27:00.671448Z"
    }
   },
   "outputs": [
    {
     "data": {
      "text/plain": [
       "'Jupyter notebook'"
      ]
     },
     "execution_count": 29,
     "metadata": {},
     "output_type": "execute_result"
    }
   ],
   "source": [
    "c.capitalize()"
   ]
  },
  {
   "cell_type": "code",
   "execution_count": 30,
   "id": "622816c7",
   "metadata": {
    "ExecuteTime": {
     "end_time": "2025-02-09T12:27:00.690186Z",
     "start_time": "2025-02-09T12:27:00.681894Z"
    }
   },
   "outputs": [
    {
     "data": {
      "text/plain": [
       "True"
      ]
     },
     "execution_count": 30,
     "metadata": {},
     "output_type": "execute_result"
    }
   ],
   "source": [
    "c.istitle()"
   ]
  },
  {
   "cell_type": "code",
   "execution_count": 31,
   "id": "f3232891",
   "metadata": {
    "ExecuteTime": {
     "end_time": "2025-02-09T12:27:00.705522Z",
     "start_time": "2025-02-09T12:27:00.692194Z"
    }
   },
   "outputs": [
    {
     "data": {
      "text/plain": [
       "'Jupyter Notebook'"
      ]
     },
     "execution_count": 31,
     "metadata": {},
     "output_type": "execute_result"
    }
   ],
   "source": [
    "c.title()"
   ]
  },
  {
   "cell_type": "code",
   "execution_count": 32,
   "id": "2cc653f8",
   "metadata": {
    "ExecuteTime": {
     "end_time": "2025-02-09T12:27:00.715254Z",
     "start_time": "2025-02-09T12:27:00.706577Z"
    }
   },
   "outputs": [],
   "source": [
    "#Split, Replace, "
   ]
  },
  {
   "cell_type": "code",
   "execution_count": 33,
   "id": "ee371e6d",
   "metadata": {
    "ExecuteTime": {
     "end_time": "2025-02-09T12:27:00.735934Z",
     "start_time": "2025-02-09T12:27:00.717264Z"
    }
   },
   "outputs": [
    {
     "data": {
      "text/plain": [
       "['abc', 'gmail.com']"
      ]
     },
     "execution_count": 33,
     "metadata": {},
     "output_type": "execute_result"
    }
   ],
   "source": [
    "st='abc@gmail.com'\n",
    "st.split('@')"
   ]
  },
  {
   "cell_type": "code",
   "execution_count": 34,
   "id": "c1b6bd75",
   "metadata": {
    "ExecuteTime": {
     "end_time": "2025-02-09T12:27:00.744194Z",
     "start_time": "2025-02-09T12:27:00.738044Z"
    }
   },
   "outputs": [
    {
     "data": {
      "text/plain": [
       "'ABC@GMAIL.COM'"
      ]
     },
     "execution_count": 34,
     "metadata": {},
     "output_type": "execute_result"
    }
   ],
   "source": [
    "st.swapcase()"
   ]
  },
  {
   "cell_type": "code",
   "execution_count": 35,
   "id": "6ea32bff",
   "metadata": {
    "ExecuteTime": {
     "end_time": "2025-02-09T12:27:00.756722Z",
     "start_time": "2025-02-09T12:27:00.745200Z"
    }
   },
   "outputs": [
    {
     "data": {
      "text/plain": [
       "'abc@gmail.com'"
      ]
     },
     "execution_count": 35,
     "metadata": {},
     "output_type": "execute_result"
    }
   ],
   "source": [
    "st.lower()"
   ]
  },
  {
   "cell_type": "markdown",
   "id": "c078e742",
   "metadata": {},
   "source": [
    "# Data Structure \n"
   ]
  },
  {
   "cell_type": "raw",
   "id": "3e72580d",
   "metadata": {
    "ExecuteTime": {
     "end_time": "2025-02-09T11:02:17.891252Z",
     "start_time": "2025-02-09T11:02:16.083059Z"
    }
   },
   "source": [
    "#Mutable\n",
    "-List\n",
    "-Dictionary\n",
    "\n",
    "#Immutable\n",
    "-Sets\n",
    "-Tuple"
   ]
  },
  {
   "cell_type": "code",
   "execution_count": 36,
   "id": "66a5b293",
   "metadata": {
    "ExecuteTime": {
     "end_time": "2025-02-09T12:27:00.769785Z",
     "start_time": "2025-02-09T12:27:00.759732Z"
    }
   },
   "outputs": [
    {
     "data": {
      "text/plain": [
       "list"
      ]
     },
     "execution_count": 36,
     "metadata": {},
     "output_type": "execute_result"
    }
   ],
   "source": [
    "#Creating List\n",
    "lst=[]\n",
    "type(lst)"
   ]
  },
  {
   "cell_type": "code",
   "execution_count": 37,
   "id": "34bd7991",
   "metadata": {
    "ExecuteTime": {
     "end_time": "2025-02-09T12:27:00.777497Z",
     "start_time": "2025-02-09T12:27:00.770793Z"
    }
   },
   "outputs": [],
   "source": [
    "lst=[10,10.5,'Hello', True]"
   ]
  },
  {
   "cell_type": "code",
   "execution_count": 38,
   "id": "e6ebd0b5",
   "metadata": {
    "ExecuteTime": {
     "end_time": "2025-02-09T12:27:00.793218Z",
     "start_time": "2025-02-09T12:27:00.780503Z"
    }
   },
   "outputs": [
    {
     "data": {
      "text/plain": [
       "[10, 10.5, 'Hello', True]"
      ]
     },
     "execution_count": 38,
     "metadata": {},
     "output_type": "execute_result"
    }
   ],
   "source": [
    "lst"
   ]
  },
  {
   "cell_type": "code",
   "execution_count": 39,
   "id": "c5bf0735",
   "metadata": {
    "ExecuteTime": {
     "end_time": "2025-02-09T12:27:00.806497Z",
     "start_time": "2025-02-09T12:27:00.794930Z"
    }
   },
   "outputs": [],
   "source": [
    "lst1=list()"
   ]
  },
  {
   "cell_type": "code",
   "execution_count": 40,
   "id": "d0e48f4a",
   "metadata": {
    "ExecuteTime": {
     "end_time": "2025-02-09T12:27:00.840144Z",
     "start_time": "2025-02-09T12:27:00.808510Z"
    }
   },
   "outputs": [
    {
     "data": {
      "text/plain": [
       "list"
      ]
     },
     "execution_count": 40,
     "metadata": {},
     "output_type": "execute_result"
    }
   ],
   "source": [
    "type(lst1) #Type CAsting"
   ]
  },
  {
   "cell_type": "code",
   "execution_count": 41,
   "id": "34be5f64",
   "metadata": {
    "ExecuteTime": {
     "end_time": "2025-02-09T12:27:00.872150Z",
     "start_time": "2025-02-09T12:27:00.845830Z"
    }
   },
   "outputs": [
    {
     "data": {
      "text/plain": [
       "True"
      ]
     },
     "execution_count": 41,
     "metadata": {},
     "output_type": "execute_result"
    }
   ],
   "source": [
    "lst[3]"
   ]
  },
  {
   "cell_type": "code",
   "execution_count": 42,
   "id": "0613727b",
   "metadata": {
    "ExecuteTime": {
     "end_time": "2025-02-09T12:27:00.880500Z",
     "start_time": "2025-02-09T12:27:00.874157Z"
    }
   },
   "outputs": [
    {
     "data": {
      "text/plain": [
       "[10.5]"
      ]
     },
     "execution_count": 42,
     "metadata": {},
     "output_type": "execute_result"
    }
   ],
   "source": [
    "lst[1:2]"
   ]
  },
  {
   "cell_type": "code",
   "execution_count": 43,
   "id": "fd5c34e1",
   "metadata": {
    "ExecuteTime": {
     "end_time": "2025-02-09T12:27:00.889058Z",
     "start_time": "2025-02-09T12:27:00.883574Z"
    }
   },
   "outputs": [],
   "source": [
    "#Reverse indexing start with -1 from end\n"
   ]
  },
  {
   "cell_type": "code",
   "execution_count": 44,
   "id": "66794288",
   "metadata": {
    "ExecuteTime": {
     "end_time": "2025-02-09T12:27:00.898284Z",
     "start_time": "2025-02-09T12:27:00.891068Z"
    }
   },
   "outputs": [],
   "source": [
    "lst.append(100)"
   ]
  },
  {
   "cell_type": "code",
   "execution_count": 45,
   "id": "9c1ebec1",
   "metadata": {
    "ExecuteTime": {
     "end_time": "2025-02-09T12:27:00.909337Z",
     "start_time": "2025-02-09T12:27:00.901820Z"
    }
   },
   "outputs": [
    {
     "data": {
      "text/plain": [
       "[10, 10.5, 'Hello', True, 100]"
      ]
     },
     "execution_count": 45,
     "metadata": {},
     "output_type": "execute_result"
    }
   ],
   "source": [
    "lst"
   ]
  },
  {
   "cell_type": "code",
   "execution_count": 46,
   "id": "c252d43a",
   "metadata": {
    "ExecuteTime": {
     "end_time": "2025-02-09T12:27:00.920353Z",
     "start_time": "2025-02-09T12:27:00.910682Z"
    }
   },
   "outputs": [
    {
     "data": {
      "text/plain": [
       "1"
      ]
     },
     "execution_count": 46,
     "metadata": {},
     "output_type": "execute_result"
    }
   ],
   "source": [
    "lst.count(100)"
   ]
  },
  {
   "cell_type": "code",
   "execution_count": 47,
   "id": "0d37c668",
   "metadata": {
    "ExecuteTime": {
     "end_time": "2025-02-09T12:27:01.384061Z",
     "start_time": "2025-02-09T12:27:00.922365Z"
    }
   },
   "outputs": [
    {
     "ename": "TypeError",
     "evalue": "list.count() takes exactly one argument (0 given)",
     "output_type": "error",
     "traceback": [
      "\u001b[1;31m---------------------------------------------------------------------------\u001b[0m",
      "\u001b[1;31mTypeError\u001b[0m                                 Traceback (most recent call last)",
      "Cell \u001b[1;32mIn[47], line 1\u001b[0m\n\u001b[1;32m----> 1\u001b[0m lst\u001b[38;5;241m.\u001b[39mcount()\n",
      "\u001b[1;31mTypeError\u001b[0m: list.count() takes exactly one argument (0 given)"
     ]
    }
   ],
   "source": [
    "lst.count()"
   ]
  },
  {
   "cell_type": "code",
   "execution_count": 48,
   "id": "de8187bd",
   "metadata": {
    "ExecuteTime": {
     "end_time": "2025-02-09T12:27:07.957423Z",
     "start_time": "2025-02-09T12:27:07.951096Z"
    }
   },
   "outputs": [
    {
     "data": {
      "text/plain": [
       "0"
      ]
     },
     "execution_count": 48,
     "metadata": {},
     "output_type": "execute_result"
    }
   ],
   "source": [
    "lst.count(50)"
   ]
  },
  {
   "cell_type": "code",
   "execution_count": 49,
   "id": "2d338df8",
   "metadata": {
    "ExecuteTime": {
     "end_time": "2025-02-09T12:27:10.601237Z",
     "start_time": "2025-02-09T12:27:10.594238Z"
    }
   },
   "outputs": [
    {
     "data": {
      "text/plain": [
       "3"
      ]
     },
     "execution_count": 49,
     "metadata": {},
     "output_type": "execute_result"
    }
   ],
   "source": [
    "lst.index(True)"
   ]
  },
  {
   "cell_type": "code",
   "execution_count": null,
   "id": "98877a6a",
   "metadata": {
    "ExecuteTime": {
     "end_time": "2025-02-09T12:27:01.387573Z",
     "start_time": "2025-02-09T12:27:01.387573Z"
    }
   },
   "outputs": [],
   "source": [
    "lst.insert(2,'V')"
   ]
  },
  {
   "cell_type": "code",
   "execution_count": 50,
   "id": "f02e4914",
   "metadata": {
    "ExecuteTime": {
     "end_time": "2025-02-09T12:27:11.312663Z",
     "start_time": "2025-02-09T12:27:11.307093Z"
    }
   },
   "outputs": [
    {
     "data": {
      "text/plain": [
       "[10, 10.5, 'Hello', True, 100]"
      ]
     },
     "execution_count": 50,
     "metadata": {},
     "output_type": "execute_result"
    }
   ],
   "source": [
    "lst"
   ]
  },
  {
   "cell_type": "code",
   "execution_count": null,
   "id": "2b7444e9",
   "metadata": {
    "ExecuteTime": {
     "end_time": "2025-02-09T12:27:01.389575Z",
     "start_time": "2025-02-09T12:27:01.389575Z"
    }
   },
   "outputs": [],
   "source": [
    "lst.pop() #remove last elementlst"
   ]
  },
  {
   "cell_type": "code",
   "execution_count": 51,
   "id": "358b382f",
   "metadata": {
    "ExecuteTime": {
     "end_time": "2025-02-09T12:27:11.924504Z",
     "start_time": "2025-02-09T12:27:11.918504Z"
    }
   },
   "outputs": [
    {
     "data": {
      "text/plain": [
       "[10, 10.5, 'Hello', True, 100]"
      ]
     },
     "execution_count": 51,
     "metadata": {},
     "output_type": "execute_result"
    }
   ],
   "source": [
    "lst"
   ]
  },
  {
   "cell_type": "code",
   "execution_count": 56,
   "id": "547c0d5d",
   "metadata": {
    "ExecuteTime": {
     "end_time": "2025-02-09T12:27:20.896139Z",
     "start_time": "2025-02-09T12:27:20.891860Z"
    }
   },
   "outputs": [],
   "source": [
    "lst[1]=40"
   ]
  },
  {
   "cell_type": "code",
   "execution_count": 52,
   "id": "c29beb36",
   "metadata": {
    "ExecuteTime": {
     "end_time": "2025-02-09T12:27:12.560241Z",
     "start_time": "2025-02-09T12:27:12.553934Z"
    }
   },
   "outputs": [
    {
     "data": {
      "text/plain": [
       "[10, 10.5, 'Hello', True, 100]"
      ]
     },
     "execution_count": 52,
     "metadata": {},
     "output_type": "execute_result"
    }
   ],
   "source": [
    "lst"
   ]
  },
  {
   "cell_type": "code",
   "execution_count": null,
   "id": "c45223bf",
   "metadata": {
    "ExecuteTime": {
     "end_time": "2025-02-09T12:27:01.395575Z",
     "start_time": "2025-02-09T12:27:01.395575Z"
    }
   },
   "outputs": [],
   "source": [
    "lst[-1]='B' #Reverse indexing\n",
    "lst"
   ]
  },
  {
   "cell_type": "markdown",
   "id": "7d00d1cc",
   "metadata": {
    "ExecuteTime": {
     "end_time": "2025-02-09T12:13:34.471516Z",
     "start_time": "2025-02-09T12:13:34.465352Z"
    }
   },
   "source": [
    "# Tuple"
   ]
  },
  {
   "cell_type": "code",
   "execution_count": 67,
   "id": "8605789e",
   "metadata": {
    "ExecuteTime": {
     "end_time": "2025-02-09T12:27:53.253314Z",
     "start_time": "2025-02-09T12:27:53.246343Z"
    }
   },
   "outputs": [
    {
     "data": {
      "text/plain": [
       "(10, 50, 'F', False)"
      ]
     },
     "execution_count": 67,
     "metadata": {},
     "output_type": "execute_result"
    }
   ],
   "source": [
    "t=(10,50,'F',False)\n",
    "t"
   ]
  },
  {
   "cell_type": "code",
   "execution_count": 68,
   "id": "2191fa58",
   "metadata": {
    "ExecuteTime": {
     "end_time": "2025-02-09T12:27:54.929210Z",
     "start_time": "2025-02-09T12:27:54.905552Z"
    }
   },
   "outputs": [
    {
     "ename": "AttributeError",
     "evalue": "'tuple' object has no attribute 'append'",
     "output_type": "error",
     "traceback": [
      "\u001b[1;31m---------------------------------------------------------------------------\u001b[0m",
      "\u001b[1;31mAttributeError\u001b[0m                            Traceback (most recent call last)",
      "Cell \u001b[1;32mIn[68], line 1\u001b[0m\n\u001b[1;32m----> 1\u001b[0m t\u001b[38;5;241m.\u001b[39mappend(\u001b[38;5;241m30.5\u001b[39m)\n\u001b[0;32m      2\u001b[0m t\n",
      "\u001b[1;31mAttributeError\u001b[0m: 'tuple' object has no attribute 'append'"
     ]
    }
   ],
   "source": [
    "t.append(30.5)\n",
    "t"
   ]
  },
  {
   "cell_type": "code",
   "execution_count": 69,
   "id": "0ba87df3",
   "metadata": {
    "ExecuteTime": {
     "end_time": "2025-02-09T12:27:58.172232Z",
     "start_time": "2025-02-09T12:27:58.165769Z"
    }
   },
   "outputs": [
    {
     "data": {
      "text/plain": [
       "tuple"
      ]
     },
     "execution_count": 69,
     "metadata": {},
     "output_type": "execute_result"
    }
   ],
   "source": [
    "type(t)"
   ]
  },
  {
   "cell_type": "code",
   "execution_count": null,
   "id": "173ff857",
   "metadata": {
    "ExecuteTime": {
     "end_time": "2025-02-09T12:27:01.405619Z",
     "start_time": "2025-02-09T12:27:01.405619Z"
    }
   },
   "outputs": [],
   "source": [
    "t.count(50)"
   ]
  },
  {
   "cell_type": "code",
   "execution_count": 70,
   "id": "a805f6ae",
   "metadata": {
    "ExecuteTime": {
     "end_time": "2025-02-09T12:27:59.196477Z",
     "start_time": "2025-02-09T12:27:59.189582Z"
    }
   },
   "outputs": [
    {
     "data": {
      "text/plain": [
       "'F'"
      ]
     },
     "execution_count": 70,
     "metadata": {},
     "output_type": "execute_result"
    }
   ],
   "source": [
    "t[2]"
   ]
  },
  {
   "cell_type": "code",
   "execution_count": 71,
   "id": "880f21a1",
   "metadata": {
    "ExecuteTime": {
     "end_time": "2025-02-09T12:28:02.000531Z",
     "start_time": "2025-02-09T12:28:01.994599Z"
    }
   },
   "outputs": [
    {
     "data": {
      "text/plain": [
       "(50, 'F', False)"
      ]
     },
     "execution_count": 71,
     "metadata": {},
     "output_type": "execute_result"
    }
   ],
   "source": [
    "t[1:]"
   ]
  },
  {
   "cell_type": "code",
   "execution_count": 72,
   "id": "abe77f56",
   "metadata": {
    "ExecuteTime": {
     "end_time": "2025-02-09T12:28:06.066150Z",
     "start_time": "2025-02-09T12:28:06.058890Z"
    }
   },
   "outputs": [
    {
     "data": {
      "text/plain": [
       "list"
      ]
     },
     "execution_count": 72,
     "metadata": {},
     "output_type": "execute_result"
    }
   ],
   "source": [
    "t=list(t)\n",
    "type(t)"
   ]
  },
  {
   "cell_type": "code",
   "execution_count": 73,
   "id": "bebd99c2",
   "metadata": {
    "ExecuteTime": {
     "end_time": "2025-02-09T12:28:07.852545Z",
     "start_time": "2025-02-09T12:28:07.846060Z"
    }
   },
   "outputs": [
    {
     "data": {
      "text/plain": [
       "[10, 50, 'F', 'E']"
      ]
     },
     "execution_count": 73,
     "metadata": {},
     "output_type": "execute_result"
    }
   ],
   "source": [
    "t[3]='E'\n",
    "t"
   ]
  },
  {
   "cell_type": "code",
   "execution_count": 74,
   "id": "6a4916d5",
   "metadata": {
    "ExecuteTime": {
     "end_time": "2025-02-09T12:28:08.725783Z",
     "start_time": "2025-02-09T12:28:08.718693Z"
    }
   },
   "outputs": [
    {
     "data": {
      "text/plain": [
       "[10, 50, 'F', 'E', True]"
      ]
     },
     "execution_count": 74,
     "metadata": {},
     "output_type": "execute_result"
    }
   ],
   "source": [
    "t.append(True)\n",
    "t"
   ]
  },
  {
   "cell_type": "code",
   "execution_count": 75,
   "id": "ed0cc33e",
   "metadata": {
    "ExecuteTime": {
     "end_time": "2025-02-09T12:28:09.790241Z",
     "start_time": "2025-02-09T12:28:09.783307Z"
    }
   },
   "outputs": [
    {
     "data": {
      "text/plain": [
       "tuple"
      ]
     },
     "execution_count": 75,
     "metadata": {},
     "output_type": "execute_result"
    }
   ],
   "source": [
    "t=tuple(t)\n",
    "type(t)"
   ]
  },
  {
   "cell_type": "markdown",
   "id": "122bc353",
   "metadata": {},
   "source": [
    "# dictionary"
   ]
  },
  {
   "cell_type": "code",
   "execution_count": 76,
   "id": "53c5fd6d",
   "metadata": {
    "ExecuteTime": {
     "end_time": "2025-02-09T12:44:30.637646Z",
     "start_time": "2025-02-09T12:44:30.629731Z"
    }
   },
   "outputs": [
    {
     "data": {
      "text/plain": [
       "dict"
      ]
     },
     "execution_count": 76,
     "metadata": {},
     "output_type": "execute_result"
    }
   ],
   "source": [
    "d={}\n",
    "type(d)"
   ]
  },
  {
   "cell_type": "code",
   "execution_count": 77,
   "id": "3f89c9e3",
   "metadata": {
    "ExecuteTime": {
     "end_time": "2025-02-09T12:45:08.455607Z",
     "start_time": "2025-02-09T12:45:08.448815Z"
    }
   },
   "outputs": [
    {
     "data": {
      "text/plain": [
       "{1: 10, 2: 'A', 3: True}"
      ]
     },
     "execution_count": 77,
     "metadata": {},
     "output_type": "execute_result"
    }
   ],
   "source": [
    "d={1:10, 2:'A', 3:True}\n",
    "d"
   ]
  },
  {
   "cell_type": "code",
   "execution_count": 80,
   "id": "6f7448cc",
   "metadata": {
    "ExecuteTime": {
     "end_time": "2025-02-09T12:46:12.026613Z",
     "start_time": "2025-02-09T12:46:12.019360Z"
    }
   },
   "outputs": [
    {
     "data": {
      "text/plain": [
       "'A'"
      ]
     },
     "execution_count": 80,
     "metadata": {},
     "output_type": "execute_result"
    }
   ],
   "source": [
    "d.get(2) #get perticular key item"
   ]
  },
  {
   "cell_type": "code",
   "execution_count": 81,
   "id": "59545b57",
   "metadata": {
    "ExecuteTime": {
     "end_time": "2025-02-09T12:46:13.968856Z",
     "start_time": "2025-02-09T12:46:13.961304Z"
    }
   },
   "outputs": [
    {
     "data": {
      "text/plain": [
       "dict_items([(1, 10), (2, 'A'), (3, True)])"
      ]
     },
     "execution_count": 81,
     "metadata": {},
     "output_type": "execute_result"
    }
   ],
   "source": [
    "d.items() #get items details"
   ]
  },
  {
   "cell_type": "code",
   "execution_count": 82,
   "id": "da7ee94a",
   "metadata": {
    "ExecuteTime": {
     "end_time": "2025-02-09T12:46:21.595263Z",
     "start_time": "2025-02-09T12:46:21.588252Z"
    }
   },
   "outputs": [
    {
     "data": {
      "text/plain": [
       "dict_keys([1, 2, 3])"
      ]
     },
     "execution_count": 82,
     "metadata": {},
     "output_type": "execute_result"
    }
   ],
   "source": [
    "d.keys() #get keys"
   ]
  },
  {
   "cell_type": "code",
   "execution_count": 83,
   "id": "fcff0fdf",
   "metadata": {
    "ExecuteTime": {
     "end_time": "2025-02-09T12:46:31.299550Z",
     "start_time": "2025-02-09T12:46:31.292287Z"
    }
   },
   "outputs": [
    {
     "data": {
      "text/plain": [
       "dict_values([10, 'A', True])"
      ]
     },
     "execution_count": 83,
     "metadata": {},
     "output_type": "execute_result"
    }
   ],
   "source": [
    "d.values() #get values"
   ]
  },
  {
   "cell_type": "code",
   "execution_count": 86,
   "id": "c1da1104",
   "metadata": {
    "ExecuteTime": {
     "end_time": "2025-02-09T12:47:23.847452Z",
     "start_time": "2025-02-09T12:47:23.839272Z"
    }
   },
   "outputs": [
    {
     "data": {
      "text/plain": [
       "{1: 10, 2: 'A', 3: True, 'car': 'exter'}"
      ]
     },
     "execution_count": 86,
     "metadata": {},
     "output_type": "execute_result"
    }
   ],
   "source": [
    "d.update({'car':'exter'})\n",
    "d"
   ]
  },
  {
   "cell_type": "code",
   "execution_count": 88,
   "id": "95237783",
   "metadata": {
    "ExecuteTime": {
     "end_time": "2025-02-09T12:47:49.368885Z",
     "start_time": "2025-02-09T12:47:49.361403Z"
    }
   },
   "outputs": [
    {
     "data": {
      "text/plain": [
       "{1: 10, 3: True, 'car': 'exter'}"
      ]
     },
     "execution_count": 88,
     "metadata": {},
     "output_type": "execute_result"
    }
   ],
   "source": [
    "d.pop(2)\n",
    "d"
   ]
  },
  {
   "cell_type": "markdown",
   "id": "18c931ed",
   "metadata": {},
   "source": [
    "## Set ##\n",
    "- Set is a collection of unordered , unindexed\n",
    "- Set is immutable\n",
    "- Set do not allow duplicate values"
   ]
  },
  {
   "cell_type": "code",
   "execution_count": 89,
   "id": "8029d502",
   "metadata": {
    "ExecuteTime": {
     "end_time": "2025-02-09T13:01:14.881190Z",
     "start_time": "2025-02-09T13:01:14.875156Z"
    }
   },
   "outputs": [
    {
     "data": {
      "text/plain": [
       "set"
      ]
     },
     "execution_count": 89,
     "metadata": {},
     "output_type": "execute_result"
    }
   ],
   "source": [
    "s={}\n",
    "s=set()\n",
    "type(s)"
   ]
  },
  {
   "cell_type": "code",
   "execution_count": 90,
   "id": "bb4d8d5a",
   "metadata": {
    "ExecuteTime": {
     "end_time": "2025-02-09T13:01:37.469494Z",
     "start_time": "2025-02-09T13:01:37.461497Z"
    }
   },
   "outputs": [
    {
     "data": {
      "text/plain": [
       "{1, 2, 3, 5, 'al'}"
      ]
     },
     "execution_count": 90,
     "metadata": {},
     "output_type": "execute_result"
    }
   ],
   "source": [
    "s={1,2,3,5,'al'}\n",
    "s"
   ]
  },
  {
   "cell_type": "code",
   "execution_count": 91,
   "id": "a0520e54",
   "metadata": {
    "ExecuteTime": {
     "end_time": "2025-02-09T13:01:45.412845Z",
     "start_time": "2025-02-09T13:01:45.389734Z"
    }
   },
   "outputs": [
    {
     "ename": "TypeError",
     "evalue": "'set' object is not subscriptable",
     "output_type": "error",
     "traceback": [
      "\u001b[1;31m---------------------------------------------------------------------------\u001b[0m",
      "\u001b[1;31mTypeError\u001b[0m                                 Traceback (most recent call last)",
      "Cell \u001b[1;32mIn[91], line 1\u001b[0m\n\u001b[1;32m----> 1\u001b[0m s[\u001b[38;5;241m0\u001b[39m]\n",
      "\u001b[1;31mTypeError\u001b[0m: 'set' object is not subscriptable"
     ]
    }
   ],
   "source": [
    "s[0]"
   ]
  },
  {
   "cell_type": "code",
   "execution_count": 92,
   "id": "379b7544",
   "metadata": {
    "ExecuteTime": {
     "end_time": "2025-02-09T13:02:22.395061Z",
     "start_time": "2025-02-09T13:02:22.389543Z"
    }
   },
   "outputs": [
    {
     "data": {
      "text/plain": [
       "{1, 2, 3, 5, 'R', 'al'}"
      ]
     },
     "execution_count": 92,
     "metadata": {},
     "output_type": "execute_result"
    }
   ],
   "source": [
    "s.add('R')\n",
    "s"
   ]
  },
  {
   "cell_type": "code",
   "execution_count": 93,
   "id": "458fadf7",
   "metadata": {
    "ExecuteTime": {
     "end_time": "2025-02-09T13:03:13.821838Z",
     "start_time": "2025-02-09T13:03:13.814729Z"
    }
   },
   "outputs": [],
   "source": [
    "a={'apple','mango','cherry'}\n",
    "b={'microsoft','google','cherry'}"
   ]
  },
  {
   "cell_type": "code",
   "execution_count": 94,
   "id": "2a6dc758",
   "metadata": {
    "ExecuteTime": {
     "end_time": "2025-02-09T13:03:20.962621Z",
     "start_time": "2025-02-09T13:03:20.954719Z"
    }
   },
   "outputs": [
    {
     "data": {
      "text/plain": [
       "{'apple', 'mango'}"
      ]
     },
     "execution_count": 94,
     "metadata": {},
     "output_type": "execute_result"
    }
   ],
   "source": [
    "a.difference(b)"
   ]
  },
  {
   "cell_type": "code",
   "execution_count": 95,
   "id": "8364d049",
   "metadata": {
    "ExecuteTime": {
     "end_time": "2025-02-09T13:03:26.986507Z",
     "start_time": "2025-02-09T13:03:26.979492Z"
    }
   },
   "outputs": [
    {
     "data": {
      "text/plain": [
       "{'google', 'microsoft'}"
      ]
     },
     "execution_count": 95,
     "metadata": {},
     "output_type": "execute_result"
    }
   ],
   "source": [
    "b.difference(a)"
   ]
  },
  {
   "cell_type": "code",
   "execution_count": 96,
   "id": "588c2460",
   "metadata": {
    "ExecuteTime": {
     "end_time": "2025-02-09T13:03:35.088447Z",
     "start_time": "2025-02-09T13:03:35.081722Z"
    }
   },
   "outputs": [
    {
     "data": {
      "text/plain": [
       "{'apple', 'cherry', 'google', 'mango', 'microsoft'}"
      ]
     },
     "execution_count": 96,
     "metadata": {},
     "output_type": "execute_result"
    }
   ],
   "source": [
    "a.union(b)"
   ]
  },
  {
   "cell_type": "code",
   "execution_count": 97,
   "id": "1e91b6e1",
   "metadata": {
    "ExecuteTime": {
     "end_time": "2025-02-09T13:03:44.460261Z",
     "start_time": "2025-02-09T13:03:44.453797Z"
    }
   },
   "outputs": [
    {
     "data": {
      "text/plain": [
       "{'cherry'}"
      ]
     },
     "execution_count": 97,
     "metadata": {},
     "output_type": "execute_result"
    }
   ],
   "source": [
    "a.intersection(b)"
   ]
  },
  {
   "cell_type": "code",
   "execution_count": 98,
   "id": "4fb70883",
   "metadata": {
    "ExecuteTime": {
     "end_time": "2025-02-09T13:03:59.628528Z",
     "start_time": "2025-02-09T13:03:59.620581Z"
    }
   },
   "outputs": [
    {
     "data": {
      "text/plain": [
       "'apple'"
      ]
     },
     "execution_count": 98,
     "metadata": {},
     "output_type": "execute_result"
    }
   ],
   "source": [
    "a.pop()"
   ]
  },
  {
   "cell_type": "code",
   "execution_count": null,
   "id": "3bc7f91e",
   "metadata": {},
   "outputs": [],
   "source": []
  }
 ],
 "metadata": {
  "kernelspec": {
   "display_name": "Python 3 (ipykernel)",
   "language": "python",
   "name": "python3"
  },
  "language_info": {
   "codemirror_mode": {
    "name": "ipython",
    "version": 3
   },
   "file_extension": ".py",
   "mimetype": "text/x-python",
   "name": "python",
   "nbconvert_exporter": "python",
   "pygments_lexer": "ipython3",
   "version": "3.12.3"
  }
 },
 "nbformat": 4,
 "nbformat_minor": 5
}
